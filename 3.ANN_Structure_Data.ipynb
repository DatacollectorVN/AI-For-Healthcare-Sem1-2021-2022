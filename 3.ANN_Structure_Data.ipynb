{
  "nbformat": 4,
  "nbformat_minor": 0,
  "metadata": {
    "colab": {
      "name": "3.ANN_Structure_Data",
      "provenance": []
    },
    "kernelspec": {
      "name": "python3",
      "display_name": "Python 3"
    },
    "language_info": {
      "name": "python"
    },
    "accelerator": "GPU"
  },
  "cells": [
    {
      "cell_type": "markdown",
      "source": [
        "### 0. Setup"
      ],
      "metadata": {
        "id": "ZSNc9kuGFUKB"
      }
    },
    {
      "cell_type": "code",
      "execution_count": 1,
      "metadata": {
        "colab": {
          "base_uri": "https://localhost:8080/"
        },
        "id": "0_f-ArdqErEe",
        "outputId": "d60f382c-8175-4aaa-f9e2-35098db0d3cd"
      },
      "outputs": [
        {
          "output_type": "stream",
          "name": "stdout",
          "text": [
            "Mounted at /content/gdrive\n"
          ]
        }
      ],
      "source": [
        "from google.colab import drive\n",
        "drive.mount(\"/content/gdrive\", force_remount = True)"
      ]
    },
    {
      "cell_type": "code",
      "source": [
        "%cd \"/content/gdrive/MyDrive/BME/TA/AI4Healthcare-sem1-2021-2022/TA-sessions/Ses-3\""
      ],
      "metadata": {
        "colab": {
          "base_uri": "https://localhost:8080/"
        },
        "id": "mSxFYlGEFAtF",
        "outputId": "896b97b3-429c-4057-a74f-06c00fca82cb"
      },
      "execution_count": 2,
      "outputs": [
        {
          "output_type": "stream",
          "name": "stdout",
          "text": [
            "/content/gdrive/MyDrive/BME/TA/AI4Healthcare-sem1-2021-2022/TA-sessions/Ses-3\n"
          ]
        }
      ]
    },
    {
      "cell_type": "markdown",
      "source": [
        "### 1. Dataset and 2.Feature engineering the same the previous [lab](https://colab.research.google.com/drive/1t6sfaS5Ib2M08StDwRox9paxHUjWAN62?usp=sharing)"
      ],
      "metadata": {
        "id": "oe2G_mlnFSsG"
      }
    },
    {
      "cell_type": "code",
      "source": [
        "import numpy as np \n",
        "import pandas as pd \n",
        "import matplotlib.pyplot as plt\n",
        "import seaborn as sns\n",
        "from sklearn.feature_selection import SelectKBest\n",
        "from sklearn.feature_selection import chi2\n",
        "from sklearn.feature_selection import f_classif\n",
        "from sklearn.preprocessing import MinMaxScaler\n",
        "from sklearn.model_selection import train_test_split"
      ],
      "metadata": {
        "id": "tBxn6f_NFQpR"
      },
      "execution_count": 11,
      "outputs": []
    },
    {
      "cell_type": "code",
      "source": [
        "df = pd.read_csv(\"Dataset/heart_failure_clinical_records_dataset.csv\")"
      ],
      "metadata": {
        "id": "-Uzgkc3NGj7c"
      },
      "execution_count": 4,
      "outputs": []
    },
    {
      "cell_type": "code",
      "source": [
        "outputs = df[\"DEATH_EVENT\"].values\n",
        "inputs_n = df[[\"age\", \"creatinine_phosphokinase\", \"ejection_fraction\", \"platelets\", \"serum_creatinine\", \"serum_sodium\", \"time\"]].values\n",
        "inputs_c = df[[\"anaemia\", \"diabetes\", \"high_blood_pressure\", \"sex\", \"smoking\"]].values"
      ],
      "metadata": {
        "id": "BhAtYm8rGj5f"
      },
      "execution_count": 5,
      "outputs": []
    },
    {
      "cell_type": "code",
      "source": [
        "fs = SelectKBest(score_func= chi2, k = 3)\n",
        "fs.fit(inputs_c, outputs)\n",
        "inputs_c_fs = fs.transform(inputs_c)"
      ],
      "metadata": {
        "id": "Ufzvy7R5Gwua"
      },
      "execution_count": 6,
      "outputs": []
    },
    {
      "cell_type": "code",
      "source": [
        "scaler = MinMaxScaler()\n",
        "scaler.fit(inputs_n)\n",
        "inputs_n = scaler.transform(inputs_n)"
      ],
      "metadata": {
        "id": "-kSSJqziG08q"
      },
      "execution_count": 8,
      "outputs": []
    },
    {
      "cell_type": "code",
      "source": [
        "fs = SelectKBest(score_func = f_classif, k = 5)\n",
        "fs.fit(inputs_n, outputs)\n",
        "inputs_n_fs = fs.transform(inputs_n)"
      ],
      "metadata": {
        "id": "Rl2Wk5sbG2o9"
      },
      "execution_count": 9,
      "outputs": []
    },
    {
      "cell_type": "code",
      "source": [
        "inputs = np.hstack([inputs_n_fs, inputs_c_fs])\n",
        "inputs.shape"
      ],
      "metadata": {
        "colab": {
          "base_uri": "https://localhost:8080/"
        },
        "id": "2nu_1InxHAMI",
        "outputId": "1363120e-a586-4db1-c856-c610b9f931c6"
      },
      "execution_count": 10,
      "outputs": [
        {
          "output_type": "execute_result",
          "data": {
            "text/plain": [
              "(299, 8)"
            ]
          },
          "metadata": {},
          "execution_count": 10
        }
      ]
    },
    {
      "cell_type": "code",
      "source": [
        "X_train, X_test, y_train, y_test = train_test_split(inputs, outputs, test_size = 0.2, random_state = 42)"
      ],
      "metadata": {
        "id": "Nbci-0I2HAbr"
      },
      "execution_count": 12,
      "outputs": []
    },
    {
      "cell_type": "markdown",
      "source": [
        "#3. Create model ANN"
      ],
      "metadata": {
        "id": "RRtMZnZzIUFl"
      }
    },
    {
      "cell_type": "code",
      "source": [
        "import tensorflow as tf\n",
        "from tensorflow.keras import Model\n",
        "from tensorflow.keras.layers import Input, Dense, Dropout"
      ],
      "metadata": {
        "id": "_GL82ePVHFnt"
      },
      "execution_count": 22,
      "outputs": []
    },
    {
      "cell_type": "code",
      "source": [
        "X_train.shape"
      ],
      "metadata": {
        "colab": {
          "base_uri": "https://localhost:8080/"
        },
        "id": "_j_go54bIbEV",
        "outputId": "b5f07b58-680a-4df9-a9b9-cc585bae0f31"
      },
      "execution_count": 14,
      "outputs": [
        {
          "output_type": "execute_result",
          "data": {
            "text/plain": [
              "(239, 8)"
            ]
          },
          "metadata": {},
          "execution_count": 14
        }
      ]
    },
    {
      "cell_type": "code",
      "source": [
        "def create_model(input_shape, output_shape):\n",
        "  input = Input(shape = input_shape)\n",
        "  x = Dense(units = 32, activation = \"relu\")(input)\n",
        "  x = Dense(units = 64, activation = \"relu\")(x)\n",
        "  x = Dense(units = 32, activation = \"relu\")(x)\n",
        "  output = Dense(units = 1, activation = \"sigmoid\")(x)\n",
        "  return Model(input, output)"
      ],
      "metadata": {
        "id": "cAjRL6LZIcTk"
      },
      "execution_count": 15,
      "outputs": []
    },
    {
      "cell_type": "code",
      "source": [
        "model = create_model((8, ), 1)\n",
        "model.summary()"
      ],
      "metadata": {
        "colab": {
          "base_uri": "https://localhost:8080/"
        },
        "id": "VfCvzyCDJoC6",
        "outputId": "ed035180-a677-43b6-eaf5-7709ebd36caf"
      },
      "execution_count": 16,
      "outputs": [
        {
          "output_type": "stream",
          "name": "stdout",
          "text": [
            "Model: \"model\"\n",
            "_________________________________________________________________\n",
            " Layer (type)                Output Shape              Param #   \n",
            "=================================================================\n",
            " input_1 (InputLayer)        [(None, 8)]               0         \n",
            "                                                                 \n",
            " dense (Dense)               (None, 32)                288       \n",
            "                                                                 \n",
            " dense_1 (Dense)             (None, 64)                2112      \n",
            "                                                                 \n",
            " dense_2 (Dense)             (None, 32)                2080      \n",
            "                                                                 \n",
            " dense_3 (Dense)             (None, 1)                 33        \n",
            "                                                                 \n",
            "=================================================================\n",
            "Total params: 4,513\n",
            "Trainable params: 4,513\n",
            "Non-trainable params: 0\n",
            "_________________________________________________________________\n"
          ]
        }
      ]
    },
    {
      "cell_type": "code",
      "source": [
        "model.compile(optimizer='adam', loss='binary_crossentropy', \n",
        "              metrics=['accuracy'])"
      ],
      "metadata": {
        "id": "EzL-pONpKQ8v"
      },
      "execution_count": 17,
      "outputs": []
    },
    {
      "cell_type": "code",
      "source": [
        "history = model.fit(X_train, y_train,\n",
        "                    epochs = 50,\n",
        "                    batch_size = 16,\n",
        "                    validation_data = (X_test, y_test))"
      ],
      "metadata": {
        "colab": {
          "base_uri": "https://localhost:8080/"
        },
        "id": "LpGXLZM8Jsd_",
        "outputId": "9d5050af-b653-4855-9dea-accbf2d938ea"
      },
      "execution_count": 18,
      "outputs": [
        {
          "output_type": "stream",
          "name": "stdout",
          "text": [
            "Epoch 1/50\n",
            "15/15 [==============================] - 4s 37ms/step - loss: 0.6493 - accuracy: 0.6904 - val_loss: 0.6720 - val_accuracy: 0.5833\n",
            "Epoch 2/50\n",
            "15/15 [==============================] - 0s 12ms/step - loss: 0.5940 - accuracy: 0.7029 - val_loss: 0.6980 - val_accuracy: 0.5833\n",
            "Epoch 3/50\n",
            "15/15 [==============================] - 0s 11ms/step - loss: 0.5742 - accuracy: 0.7029 - val_loss: 0.6814 - val_accuracy: 0.5833\n",
            "Epoch 4/50\n",
            "15/15 [==============================] - 0s 10ms/step - loss: 0.5512 - accuracy: 0.7029 - val_loss: 0.6481 - val_accuracy: 0.5833\n",
            "Epoch 5/50\n",
            "15/15 [==============================] - 0s 10ms/step - loss: 0.5238 - accuracy: 0.7071 - val_loss: 0.6327 - val_accuracy: 0.6000\n",
            "Epoch 6/50\n",
            "15/15 [==============================] - 0s 12ms/step - loss: 0.4917 - accuracy: 0.7155 - val_loss: 0.6089 - val_accuracy: 0.6167\n",
            "Epoch 7/50\n",
            "15/15 [==============================] - 0s 10ms/step - loss: 0.4614 - accuracy: 0.7908 - val_loss: 0.6032 - val_accuracy: 0.6500\n",
            "Epoch 8/50\n",
            "15/15 [==============================] - 0s 10ms/step - loss: 0.4290 - accuracy: 0.8033 - val_loss: 0.5824 - val_accuracy: 0.6833\n",
            "Epoch 9/50\n",
            "15/15 [==============================] - 0s 11ms/step - loss: 0.4049 - accuracy: 0.8285 - val_loss: 0.5760 - val_accuracy: 0.7333\n",
            "Epoch 10/50\n",
            "15/15 [==============================] - 0s 11ms/step - loss: 0.3900 - accuracy: 0.8368 - val_loss: 0.5547 - val_accuracy: 0.7500\n",
            "Epoch 11/50\n",
            "15/15 [==============================] - 0s 10ms/step - loss: 0.3716 - accuracy: 0.8368 - val_loss: 0.5939 - val_accuracy: 0.7167\n",
            "Epoch 12/50\n",
            "15/15 [==============================] - 0s 10ms/step - loss: 0.3609 - accuracy: 0.8368 - val_loss: 0.5682 - val_accuracy: 0.7333\n",
            "Epoch 13/50\n",
            "15/15 [==============================] - 0s 11ms/step - loss: 0.3483 - accuracy: 0.8452 - val_loss: 0.5592 - val_accuracy: 0.7667\n",
            "Epoch 14/50\n",
            "15/15 [==============================] - 0s 12ms/step - loss: 0.3468 - accuracy: 0.8494 - val_loss: 0.5227 - val_accuracy: 0.7500\n",
            "Epoch 15/50\n",
            "15/15 [==============================] - 0s 10ms/step - loss: 0.3509 - accuracy: 0.8452 - val_loss: 0.5324 - val_accuracy: 0.7667\n",
            "Epoch 16/50\n",
            "15/15 [==============================] - 0s 10ms/step - loss: 0.3453 - accuracy: 0.8452 - val_loss: 0.6450 - val_accuracy: 0.7000\n",
            "Epoch 17/50\n",
            "15/15 [==============================] - 0s 10ms/step - loss: 0.3327 - accuracy: 0.8494 - val_loss: 0.5561 - val_accuracy: 0.7500\n",
            "Epoch 18/50\n",
            "15/15 [==============================] - 0s 9ms/step - loss: 0.3277 - accuracy: 0.8745 - val_loss: 0.5949 - val_accuracy: 0.7000\n",
            "Epoch 19/50\n",
            "15/15 [==============================] - 0s 10ms/step - loss: 0.3218 - accuracy: 0.8536 - val_loss: 0.5370 - val_accuracy: 0.7667\n",
            "Epoch 20/50\n",
            "15/15 [==============================] - 0s 11ms/step - loss: 0.3236 - accuracy: 0.8536 - val_loss: 0.6141 - val_accuracy: 0.7167\n",
            "Epoch 21/50\n",
            "15/15 [==============================] - 0s 10ms/step - loss: 0.3157 - accuracy: 0.8577 - val_loss: 0.5696 - val_accuracy: 0.7500\n",
            "Epoch 22/50\n",
            "15/15 [==============================] - 0s 10ms/step - loss: 0.3072 - accuracy: 0.8619 - val_loss: 0.5395 - val_accuracy: 0.7500\n",
            "Epoch 23/50\n",
            "15/15 [==============================] - 0s 10ms/step - loss: 0.3030 - accuracy: 0.8619 - val_loss: 0.5766 - val_accuracy: 0.7500\n",
            "Epoch 24/50\n",
            "15/15 [==============================] - 0s 11ms/step - loss: 0.2959 - accuracy: 0.8828 - val_loss: 0.5612 - val_accuracy: 0.7500\n",
            "Epoch 25/50\n",
            "15/15 [==============================] - 0s 12ms/step - loss: 0.2936 - accuracy: 0.8661 - val_loss: 0.5890 - val_accuracy: 0.7333\n",
            "Epoch 26/50\n",
            "15/15 [==============================] - 0s 10ms/step - loss: 0.2877 - accuracy: 0.8787 - val_loss: 0.5716 - val_accuracy: 0.7500\n",
            "Epoch 27/50\n",
            "15/15 [==============================] - 0s 7ms/step - loss: 0.2949 - accuracy: 0.8828 - val_loss: 0.6348 - val_accuracy: 0.7167\n",
            "Epoch 28/50\n",
            "15/15 [==============================] - 0s 6ms/step - loss: 0.2773 - accuracy: 0.8745 - val_loss: 0.5571 - val_accuracy: 0.7333\n",
            "Epoch 29/50\n",
            "15/15 [==============================] - 0s 6ms/step - loss: 0.2839 - accuracy: 0.8661 - val_loss: 0.6438 - val_accuracy: 0.7167\n",
            "Epoch 30/50\n",
            "15/15 [==============================] - 0s 6ms/step - loss: 0.2770 - accuracy: 0.8870 - val_loss: 0.6067 - val_accuracy: 0.7333\n",
            "Epoch 31/50\n",
            "15/15 [==============================] - 0s 7ms/step - loss: 0.2687 - accuracy: 0.8912 - val_loss: 0.5750 - val_accuracy: 0.7500\n",
            "Epoch 32/50\n",
            "15/15 [==============================] - 0s 6ms/step - loss: 0.2830 - accuracy: 0.8703 - val_loss: 0.6096 - val_accuracy: 0.7167\n",
            "Epoch 33/50\n",
            "15/15 [==============================] - 0s 6ms/step - loss: 0.2770 - accuracy: 0.8828 - val_loss: 0.7062 - val_accuracy: 0.7333\n",
            "Epoch 34/50\n",
            "15/15 [==============================] - 0s 7ms/step - loss: 0.2656 - accuracy: 0.8870 - val_loss: 0.5643 - val_accuracy: 0.7167\n",
            "Epoch 35/50\n",
            "15/15 [==============================] - 0s 7ms/step - loss: 0.2567 - accuracy: 0.8954 - val_loss: 0.6680 - val_accuracy: 0.7333\n",
            "Epoch 36/50\n",
            "15/15 [==============================] - 0s 6ms/step - loss: 0.2617 - accuracy: 0.8787 - val_loss: 0.6069 - val_accuracy: 0.7000\n",
            "Epoch 37/50\n",
            "15/15 [==============================] - 0s 7ms/step - loss: 0.2526 - accuracy: 0.8870 - val_loss: 0.6753 - val_accuracy: 0.7167\n",
            "Epoch 38/50\n",
            "15/15 [==============================] - 0s 6ms/step - loss: 0.2461 - accuracy: 0.8954 - val_loss: 0.6428 - val_accuracy: 0.7167\n",
            "Epoch 39/50\n",
            "15/15 [==============================] - 0s 6ms/step - loss: 0.2559 - accuracy: 0.8828 - val_loss: 0.6967 - val_accuracy: 0.7167\n",
            "Epoch 40/50\n",
            "15/15 [==============================] - 0s 7ms/step - loss: 0.2486 - accuracy: 0.8996 - val_loss: 0.6601 - val_accuracy: 0.7167\n",
            "Epoch 41/50\n",
            "15/15 [==============================] - 0s 6ms/step - loss: 0.2411 - accuracy: 0.8996 - val_loss: 0.6494 - val_accuracy: 0.7000\n",
            "Epoch 42/50\n",
            "15/15 [==============================] - 0s 6ms/step - loss: 0.2353 - accuracy: 0.8996 - val_loss: 0.6793 - val_accuracy: 0.7167\n",
            "Epoch 43/50\n",
            "15/15 [==============================] - 0s 6ms/step - loss: 0.2348 - accuracy: 0.8912 - val_loss: 0.7158 - val_accuracy: 0.7167\n",
            "Epoch 44/50\n",
            "15/15 [==============================] - 0s 5ms/step - loss: 0.2442 - accuracy: 0.8870 - val_loss: 0.6018 - val_accuracy: 0.7333\n",
            "Epoch 45/50\n",
            "15/15 [==============================] - 0s 7ms/step - loss: 0.2336 - accuracy: 0.9121 - val_loss: 0.7000 - val_accuracy: 0.7167\n",
            "Epoch 46/50\n",
            "15/15 [==============================] - 0s 5ms/step - loss: 0.2302 - accuracy: 0.8996 - val_loss: 0.6800 - val_accuracy: 0.7167\n",
            "Epoch 47/50\n",
            "15/15 [==============================] - 0s 6ms/step - loss: 0.2266 - accuracy: 0.9163 - val_loss: 0.7490 - val_accuracy: 0.7167\n",
            "Epoch 48/50\n",
            "15/15 [==============================] - 0s 7ms/step - loss: 0.2280 - accuracy: 0.9038 - val_loss: 0.6670 - val_accuracy: 0.7333\n",
            "Epoch 49/50\n",
            "15/15 [==============================] - 0s 6ms/step - loss: 0.2234 - accuracy: 0.9038 - val_loss: 0.7579 - val_accuracy: 0.7167\n",
            "Epoch 50/50\n",
            "15/15 [==============================] - 0s 5ms/step - loss: 0.2224 - accuracy: 0.9079 - val_loss: 0.7082 - val_accuracy: 0.7000\n"
          ]
        }
      ]
    },
    {
      "cell_type": "markdown",
      "source": [
        "+ Training set"
      ],
      "metadata": {
        "id": "4X9ByxBRKfbN"
      }
    },
    {
      "cell_type": "code",
      "source": [
        "plt.figure()\n",
        "plt.plot(history.history['loss'])\n",
        "plt.plot(history.history['accuracy'])\n",
        "plt.title('Loss & Accuracy')\n",
        "plt.ylabel('Values')\n",
        "plt.xlabel('Epoch')\n",
        "plt.legend(['Loss', 'Acc'])\n",
        "plt.show()"
      ],
      "metadata": {
        "colab": {
          "base_uri": "https://localhost:8080/",
          "height": 295
        },
        "id": "vuQGjqxvKWE0",
        "outputId": "0162eb59-6377-4b0e-d822-92da600f0ee1"
      },
      "execution_count": 19,
      "outputs": [
        {
          "output_type": "display_data",
          "data": {
            "image/png": "[encoded data removed]",
            "text/plain": [
              "<Figure size 432x288 with 1 Axes>"
            ]
          },
          "metadata": {
            "needs_background": "light"
          }
        }
      ]
    },
    {
      "cell_type": "markdown",
      "source": [
        "+ Validating set"
      ],
      "metadata": {
        "id": "tCso1wkrKkom"
      }
    },
    {
      "cell_type": "code",
      "source": [
        "plt.figure()\n",
        "plt.plot(history.history['val_loss'])\n",
        "plt.plot(history.history['val_accuracy'])\n",
        "plt.title('val Loss & val Accuracy')\n",
        "plt.ylabel('Values')\n",
        "plt.xlabel('Epoch')\n",
        "plt.legend(['val Loss', 'val Acc'])\n",
        "plt.show()"
      ],
      "metadata": {
        "colab": {
          "base_uri": "https://localhost:8080/",
          "height": 295
        },
        "id": "-ypL1YctKZu3",
        "outputId": "a51f5792-db2e-4b45-c805-916ed9a49310"
      },
      "execution_count": 20,
      "outputs": [
        {
          "output_type": "display_data",
          "data": {
            "image/png": "[encoded data removed]",
            "text/plain": [
              "<Figure size 432x288 with 1 Axes>"
            ]
          },
          "metadata": {
            "needs_background": "light"
          }
        }
      ]
    },
    {
      "cell_type": "markdown",
      "source": [
        "+ Compare acc_train and acc_val"
      ],
      "metadata": {
        "id": "FDhiT46yKsHt"
      }
    },
    {
      "cell_type": "code",
      "source": [
        "plt.figure()\n",
        "plt.plot(history.history['accuracy']) \n",
        "plt.plot(history.history['val_accuracy'])\n",
        "plt.title('Model accuracy')\n",
        "plt.ylabel('Accuracy')\n",
        "plt.xlabel('Epoch')\n",
        "plt.legend(['Train', 'Test'])\n",
        "plt.show()"
      ],
      "metadata": {
        "colab": {
          "base_uri": "https://localhost:8080/",
          "height": 295
        },
        "id": "B8X79maVKh-z",
        "outputId": "02a2b714-3122-488c-c820-34de6a11a6f1"
      },
      "execution_count": 21,
      "outputs": [
        {
          "output_type": "display_data",
          "data": {
            "image/png": "[encoded data removed]",
            "text/plain": [
              "<Figure size 432x288 with 1 Axes>"
            ]
          },
          "metadata": {
            "needs_background": "light"
          }
        }
      ]
    },
    {
      "cell_type": "markdown",
      "source": [
        "--> Overfitting"
      ],
      "metadata": {
        "id": "wjjrRIYxK855"
      }
    },
    {
      "cell_type": "code",
      "source": [
        "def create_model_with_dropout(input_shape, output_shape):\n",
        "  input = Input(shape = input_shape)\n",
        "  x = Dense(units = 32, activation = \"relu\")(input)\n",
        "  x = Dropout(rate = 0.1, seed = 1)(x)\n",
        "  x = Dense(units = 64, activation = \"relu\")(x)\n",
        "  x = Dropout(rate = 0.1, seed = 2)(x)\n",
        "  x = Dense(units = 32, activation = \"relu\")(x)\n",
        "  x = Dropout(rate = 0.1, seed = 3)(x)\n",
        "  output = Dense(units = 1, activation = \"sigmoid\")(x)\n",
        "  return Model(input, output)"
      ],
      "metadata": {
        "id": "PKkM-LzYKqDN"
      },
      "execution_count": 25,
      "outputs": []
    },
    {
      "cell_type": "code",
      "source": [
        "model = create_model_with_dropout((8, ), 1)\n",
        "model.summary()"
      ],
      "metadata": {
        "colab": {
          "base_uri": "https://localhost:8080/"
        },
        "id": "ryoNaNc4LQV7",
        "outputId": "29542c02-d7c5-4461-f1b0-475791c25a48"
      },
      "execution_count": 26,
      "outputs": [
        {
          "output_type": "stream",
          "name": "stdout",
          "text": [
            "Model: \"model_1\"\n",
            "_________________________________________________________________\n",
            " Layer (type)                Output Shape              Param #   \n",
            "=================================================================\n",
            " input_3 (InputLayer)        [(None, 8)]               0         \n",
            "                                                                 \n",
            " dense_5 (Dense)             (None, 32)                288       \n",
            "                                                                 \n",
            " dropout_1 (Dropout)         (None, 32)                0         \n",
            "                                                                 \n",
            " dense_6 (Dense)             (None, 64)                2112      \n",
            "                                                                 \n",
            " dropout_2 (Dropout)         (None, 64)                0         \n",
            "                                                                 \n",
            " dense_7 (Dense)             (None, 32)                2080      \n",
            "                                                                 \n",
            " dropout_3 (Dropout)         (None, 32)                0         \n",
            "                                                                 \n",
            " dense_8 (Dense)             (None, 1)                 33        \n",
            "                                                                 \n",
            "=================================================================\n",
            "Total params: 4,513\n",
            "Trainable params: 4,513\n",
            "Non-trainable params: 0\n",
            "_________________________________________________________________\n"
          ]
        }
      ]
    },
    {
      "cell_type": "code",
      "source": [
        "model.compile(optimizer='adam', loss='binary_crossentropy', \n",
        "              metrics=['accuracy'])"
      ],
      "metadata": {
        "id": "hGTIzX1MLU--"
      },
      "execution_count": 27,
      "outputs": []
    },
    {
      "cell_type": "code",
      "source": [
        "history = model.fit(X_train, y_train,\n",
        "                    epochs = 50,\n",
        "                    batch_size = 16,\n",
        "                    validation_data = (X_test, y_test))"
      ],
      "metadata": {
        "colab": {
          "base_uri": "https://localhost:8080/"
        },
        "id": "b-JcQdwbLbuC",
        "outputId": "1e165701-f9a5-4758-9c62-822f744a0829"
      },
      "execution_count": 28,
      "outputs": [
        {
          "output_type": "stream",
          "name": "stdout",
          "text": [
            "Epoch 1/50\n",
            "15/15 [==============================] - 2s 46ms/step - loss: 0.6752 - accuracy: 0.5983 - val_loss: 0.6758 - val_accuracy: 0.5833\n",
            "Epoch 2/50\n",
            "15/15 [==============================] - 0s 10ms/step - loss: 0.6343 - accuracy: 0.7029 - val_loss: 0.6711 - val_accuracy: 0.5833\n",
            "Epoch 3/50\n",
            "15/15 [==============================] - 0s 10ms/step - loss: 0.6033 - accuracy: 0.7029 - val_loss: 0.6761 - val_accuracy: 0.5833\n",
            "Epoch 4/50\n",
            "15/15 [==============================] - 0s 10ms/step - loss: 0.5815 - accuracy: 0.7029 - val_loss: 0.6740 - val_accuracy: 0.5833\n",
            "Epoch 5/50\n",
            "15/15 [==============================] - 0s 10ms/step - loss: 0.5646 - accuracy: 0.7029 - val_loss: 0.6653 - val_accuracy: 0.5833\n",
            "Epoch 6/50\n",
            "15/15 [==============================] - 0s 10ms/step - loss: 0.5336 - accuracy: 0.7113 - val_loss: 0.6340 - val_accuracy: 0.5833\n",
            "Epoch 7/50\n",
            "15/15 [==============================] - 0s 11ms/step - loss: 0.5165 - accuracy: 0.7364 - val_loss: 0.6035 - val_accuracy: 0.6167\n",
            "Epoch 8/50\n",
            "15/15 [==============================] - 0s 11ms/step - loss: 0.4958 - accuracy: 0.7615 - val_loss: 0.5949 - val_accuracy: 0.6500\n",
            "Epoch 9/50\n",
            "15/15 [==============================] - 0s 12ms/step - loss: 0.4786 - accuracy: 0.7992 - val_loss: 0.5888 - val_accuracy: 0.7167\n",
            "Epoch 10/50\n",
            "15/15 [==============================] - 0s 12ms/step - loss: 0.4408 - accuracy: 0.7908 - val_loss: 0.5671 - val_accuracy: 0.7167\n",
            "Epoch 11/50\n",
            "15/15 [==============================] - 0s 10ms/step - loss: 0.4476 - accuracy: 0.8201 - val_loss: 0.5688 - val_accuracy: 0.7333\n",
            "Epoch 12/50\n",
            "15/15 [==============================] - 0s 10ms/step - loss: 0.4287 - accuracy: 0.7908 - val_loss: 0.5615 - val_accuracy: 0.7500\n",
            "Epoch 13/50\n",
            "15/15 [==============================] - 0s 10ms/step - loss: 0.3991 - accuracy: 0.8368 - val_loss: 0.5704 - val_accuracy: 0.7500\n",
            "Epoch 14/50\n",
            "15/15 [==============================] - 0s 11ms/step - loss: 0.3664 - accuracy: 0.8452 - val_loss: 0.5535 - val_accuracy: 0.7833\n",
            "Epoch 15/50\n",
            "15/15 [==============================] - 0s 10ms/step - loss: 0.3941 - accuracy: 0.8326 - val_loss: 0.5826 - val_accuracy: 0.7167\n",
            "Epoch 16/50\n",
            "15/15 [==============================] - 0s 10ms/step - loss: 0.3493 - accuracy: 0.8536 - val_loss: 0.5702 - val_accuracy: 0.7833\n",
            "Epoch 17/50\n",
            "15/15 [==============================] - 0s 11ms/step - loss: 0.3815 - accuracy: 0.8326 - val_loss: 0.5670 - val_accuracy: 0.7833\n",
            "Epoch 18/50\n",
            "15/15 [==============================] - 0s 10ms/step - loss: 0.3770 - accuracy: 0.8368 - val_loss: 0.5984 - val_accuracy: 0.7500\n",
            "Epoch 19/50\n",
            "15/15 [==============================] - 0s 11ms/step - loss: 0.3783 - accuracy: 0.8201 - val_loss: 0.5789 - val_accuracy: 0.7667\n",
            "Epoch 20/50\n",
            "15/15 [==============================] - 0s 10ms/step - loss: 0.3810 - accuracy: 0.8494 - val_loss: 0.5636 - val_accuracy: 0.7667\n",
            "Epoch 21/50\n",
            "15/15 [==============================] - 0s 13ms/step - loss: 0.3524 - accuracy: 0.8410 - val_loss: 0.5731 - val_accuracy: 0.7500\n",
            "Epoch 22/50\n",
            "15/15 [==============================] - 0s 12ms/step - loss: 0.3547 - accuracy: 0.8326 - val_loss: 0.5525 - val_accuracy: 0.8000\n",
            "Epoch 23/50\n",
            "15/15 [==============================] - 0s 11ms/step - loss: 0.3537 - accuracy: 0.8619 - val_loss: 0.5565 - val_accuracy: 0.7833\n",
            "Epoch 24/50\n",
            "15/15 [==============================] - 0s 11ms/step - loss: 0.3659 - accuracy: 0.8619 - val_loss: 0.5855 - val_accuracy: 0.7500\n",
            "Epoch 25/50\n",
            "15/15 [==============================] - 0s 10ms/step - loss: 0.3390 - accuracy: 0.8494 - val_loss: 0.5680 - val_accuracy: 0.7667\n",
            "Epoch 26/50\n",
            "15/15 [==============================] - 0s 10ms/step - loss: 0.3268 - accuracy: 0.8577 - val_loss: 0.5857 - val_accuracy: 0.7500\n",
            "Epoch 27/50\n",
            "15/15 [==============================] - 0s 11ms/step - loss: 0.3372 - accuracy: 0.8661 - val_loss: 0.5682 - val_accuracy: 0.7833\n",
            "Epoch 28/50\n",
            "15/15 [==============================] - 0s 12ms/step - loss: 0.3307 - accuracy: 0.8494 - val_loss: 0.5895 - val_accuracy: 0.7500\n",
            "Epoch 29/50\n",
            "15/15 [==============================] - 0s 11ms/step - loss: 0.3288 - accuracy: 0.8661 - val_loss: 0.5500 - val_accuracy: 0.8000\n",
            "Epoch 30/50\n",
            "15/15 [==============================] - 0s 10ms/step - loss: 0.3260 - accuracy: 0.8661 - val_loss: 0.5845 - val_accuracy: 0.8000\n",
            "Epoch 31/50\n",
            "15/15 [==============================] - 0s 10ms/step - loss: 0.3179 - accuracy: 0.8619 - val_loss: 0.5781 - val_accuracy: 0.8000\n",
            "Epoch 32/50\n",
            "15/15 [==============================] - 0s 10ms/step - loss: 0.3057 - accuracy: 0.8828 - val_loss: 0.5828 - val_accuracy: 0.8000\n",
            "Epoch 33/50\n",
            "15/15 [==============================] - 0s 11ms/step - loss: 0.3347 - accuracy: 0.8452 - val_loss: 0.6058 - val_accuracy: 0.7667\n",
            "Epoch 34/50\n",
            "15/15 [==============================] - 0s 12ms/step - loss: 0.3419 - accuracy: 0.8536 - val_loss: 0.5544 - val_accuracy: 0.7833\n",
            "Epoch 35/50\n",
            "15/15 [==============================] - 0s 11ms/step - loss: 0.3133 - accuracy: 0.8745 - val_loss: 0.6129 - val_accuracy: 0.7667\n",
            "Epoch 36/50\n",
            "15/15 [==============================] - 0s 10ms/step - loss: 0.3426 - accuracy: 0.8703 - val_loss: 0.6000 - val_accuracy: 0.7667\n",
            "Epoch 37/50\n",
            "15/15 [==============================] - 0s 11ms/step - loss: 0.3035 - accuracy: 0.8787 - val_loss: 0.5928 - val_accuracy: 0.7833\n",
            "Epoch 38/50\n",
            "15/15 [==============================] - 0s 10ms/step - loss: 0.2947 - accuracy: 0.8787 - val_loss: 0.5945 - val_accuracy: 0.7833\n",
            "Epoch 39/50\n",
            "15/15 [==============================] - 0s 10ms/step - loss: 0.3152 - accuracy: 0.8787 - val_loss: 0.5775 - val_accuracy: 0.8000\n",
            "Epoch 40/50\n",
            "15/15 [==============================] - 0s 11ms/step - loss: 0.2947 - accuracy: 0.8661 - val_loss: 0.6322 - val_accuracy: 0.7667\n",
            "Epoch 41/50\n",
            "15/15 [==============================] - 0s 14ms/step - loss: 0.2970 - accuracy: 0.8745 - val_loss: 0.5910 - val_accuracy: 0.8000\n",
            "Epoch 42/50\n",
            "15/15 [==============================] - 0s 10ms/step - loss: 0.3265 - accuracy: 0.8745 - val_loss: 0.6096 - val_accuracy: 0.7833\n",
            "Epoch 43/50\n",
            "15/15 [==============================] - 0s 12ms/step - loss: 0.2937 - accuracy: 0.8661 - val_loss: 0.6022 - val_accuracy: 0.7833\n",
            "Epoch 44/50\n",
            "15/15 [==============================] - 0s 9ms/step - loss: 0.2803 - accuracy: 0.8912 - val_loss: 0.6286 - val_accuracy: 0.7833\n",
            "Epoch 45/50\n",
            "15/15 [==============================] - 0s 10ms/step - loss: 0.3018 - accuracy: 0.8787 - val_loss: 0.5817 - val_accuracy: 0.8167\n",
            "Epoch 46/50\n",
            "15/15 [==============================] - 0s 15ms/step - loss: 0.2736 - accuracy: 0.8954 - val_loss: 0.6352 - val_accuracy: 0.7833\n",
            "Epoch 47/50\n",
            "15/15 [==============================] - 0s 11ms/step - loss: 0.2765 - accuracy: 0.8870 - val_loss: 0.6210 - val_accuracy: 0.8000\n",
            "Epoch 48/50\n",
            "15/15 [==============================] - 0s 13ms/step - loss: 0.2998 - accuracy: 0.8870 - val_loss: 0.6005 - val_accuracy: 0.8000\n",
            "Epoch 49/50\n",
            "15/15 [==============================] - 0s 6ms/step - loss: 0.2852 - accuracy: 0.8870 - val_loss: 0.6213 - val_accuracy: 0.8000\n",
            "Epoch 50/50\n",
            "15/15 [==============================] - 0s 7ms/step - loss: 0.2984 - accuracy: 0.8661 - val_loss: 0.6544 - val_accuracy: 0.7667\n"
          ]
        }
      ]
    },
    {
      "cell_type": "code",
      "source": [
        "plt.figure()\n",
        "plt.plot(history.history['loss'])\n",
        "plt.plot(history.history['accuracy'])\n",
        "plt.title('Loss & Accuracy')\n",
        "plt.ylabel('Values')\n",
        "plt.xlabel('Epoch')\n",
        "plt.legend(['Loss', 'Acc'])\n",
        "plt.show()"
      ],
      "metadata": {
        "colab": {
          "base_uri": "https://localhost:8080/",
          "height": 295
        },
        "id": "pnZZxe8YLlla",
        "outputId": "65b04e55-4a5c-47aa-d2f4-d4c89499ceea"
      },
      "execution_count": 29,
      "outputs": [
        {
          "output_type": "display_data",
          "data": {
            "image/png": "[encoded data removed]",
            "text/plain": [
              "<Figure size 432x288 with 1 Axes>"
            ]
          },
          "metadata": {
            "needs_background": "light"
          }
        }
      ]
    },
    {
      "cell_type": "code",
      "source": [
        "plt.figure()\n",
        "plt.plot(history.history['val_loss'])\n",
        "plt.plot(history.history['val_accuracy'])\n",
        "plt.title('val Loss & val Accuracy')\n",
        "plt.ylabel('Values')\n",
        "plt.xlabel('Epoch')\n",
        "plt.legend(['val Loss', 'val Acc'])\n",
        "plt.show()"
      ],
      "metadata": {
        "colab": {
          "base_uri": "https://localhost:8080/",
          "height": 295
        },
        "id": "uxqzTx8jLpEa",
        "outputId": "cb2d8576-8bfb-4fc5-f58b-6954037ecf2e"
      },
      "execution_count": 30,
      "outputs": [
        {
          "output_type": "display_data",
          "data": {
            "image/png": "[encoded data removed]",
            "text/plain": [
              "<Figure size 432x288 with 1 Axes>"
            ]
          },
          "metadata": {
            "needs_background": "light"
          }
        }
      ]
    },
    {
      "cell_type": "code",
      "source": [
        "plt.figure()\n",
        "plt.plot(history.history['accuracy']) \n",
        "plt.plot(history.history['val_accuracy'])\n",
        "plt.title('Model accuracy')\n",
        "plt.ylabel('Accuracy')\n",
        "plt.xlabel('Epoch')\n",
        "plt.legend(['Train', 'Test'])\n",
        "plt.show()"
      ],
      "metadata": {
        "colab": {
          "base_uri": "https://localhost:8080/",
          "height": 295
        },
        "id": "U_03b8Y8LsGc",
        "outputId": "57de48ac-612b-4aac-a074-de5eae29e500"
      },
      "execution_count": 31,
      "outputs": [
        {
          "output_type": "display_data",
          "data": {
            "image/png": "[encoded data removed]",
            "text/plain": [
              "<Figure size 432x288 with 1 Axes>"
            ]
          },
          "metadata": {
            "needs_background": "light"
          }
        }
      ]
    },
    {
      "cell_type": "markdown",
      "source": [
        "It's better"
      ],
      "metadata": {
        "id": "QS-fQr56L3ia"
      }
    },
    {
      "cell_type": "markdown",
      "source": [
        "### 3.1 Create checkpoint for best model"
      ],
      "metadata": {
        "id": "qeRKZWhqMYQ_"
      }
    },
    {
      "cell_type": "code",
      "source": [
        "from tensorflow.keras.callbacks import ModelCheckpoint\n",
        "import os"
      ],
      "metadata": {
        "id": "loPbFivbLvyj"
      },
      "execution_count": 63,
      "outputs": []
    },
    {
      "cell_type": "code",
      "source": [
        "callback = tf.keras.callbacks.ModelCheckpoint(filepath = \"best_model_ANN.h5\", monitor = 'val_accuracy', mode = 'max', \n",
        "              save_best_only = True, verbose  =1)"
      ],
      "metadata": {
        "id": "1Ng-KnMRMjRl"
      },
      "execution_count": 71,
      "outputs": []
    },
    {
      "cell_type": "code",
      "source": [
        "model = create_model_with_dropout((8, ), 1)\n",
        "model.compile(optimizer='adam', loss='binary_crossentropy', \n",
        "              metrics=['accuracy'])"
      ],
      "metadata": {
        "id": "9VgDIWeDNdfY"
      },
      "execution_count": 72,
      "outputs": []
    },
    {
      "cell_type": "code",
      "source": [
        "history = model.fit(X_train, y_train,\n",
        "                    epochs = 50,\n",
        "                    batch_size = 16,\n",
        "                    validation_data = (X_test, y_test), \n",
        "                    callbacks = callback)"
      ],
      "metadata": {
        "colab": {
          "base_uri": "https://localhost:8080/"
        },
        "id": "fMWxusbrNlf5",
        "outputId": "519a55eb-4bb2-4d55-ab3e-5d013ce973fe"
      },
      "execution_count": 73,
      "outputs": [
        {
          "output_type": "stream",
          "name": "stdout",
          "text": [
            "Epoch 1/50\n",
            "13/15 [=========================>....] - ETA: 0s - loss: 0.6667 - accuracy: 0.6442 \n",
            "Epoch 00001: val_accuracy improved from -inf to 0.58333, saving model to best_model_ANN.h5\n",
            "15/15 [==============================] - 1s 23ms/step - loss: 0.6508 - accuracy: 0.6611 - val_loss: 0.6656 - val_accuracy: 0.5833\n",
            "Epoch 2/50\n",
            "13/15 [=========================>....] - ETA: 0s - loss: 0.6000 - accuracy: 0.7019\n",
            "Epoch 00002: val_accuracy did not improve from 0.58333\n",
            "15/15 [==============================] - 0s 7ms/step - loss: 0.5959 - accuracy: 0.7029 - val_loss: 0.6789 - val_accuracy: 0.5833\n",
            "Epoch 3/50\n",
            "14/15 [===========================>..] - ETA: 0s - loss: 0.5872 - accuracy: 0.6920\n",
            "Epoch 00003: val_accuracy did not improve from 0.58333\n",
            "15/15 [==============================] - 0s 6ms/step - loss: 0.5768 - accuracy: 0.7029 - val_loss: 0.6812 - val_accuracy: 0.5833\n",
            "Epoch 4/50\n",
            "13/15 [=========================>....] - ETA: 0s - loss: 0.5575 - accuracy: 0.6971\n",
            "Epoch 00004: val_accuracy did not improve from 0.58333\n",
            "15/15 [==============================] - 0s 7ms/step - loss: 0.5485 - accuracy: 0.7029 - val_loss: 0.6595 - val_accuracy: 0.5833\n",
            "Epoch 5/50\n",
            "14/15 [===========================>..] - ETA: 0s - loss: 0.5393 - accuracy: 0.7098\n",
            "Epoch 00005: val_accuracy improved from 0.58333 to 0.61667, saving model to best_model_ANN.h5\n",
            "15/15 [==============================] - 0s 11ms/step - loss: 0.5352 - accuracy: 0.7113 - val_loss: 0.6254 - val_accuracy: 0.6167\n",
            "Epoch 6/50\n",
            "14/15 [===========================>..] - ETA: 0s - loss: 0.5150 - accuracy: 0.7232\n",
            "Epoch 00006: val_accuracy improved from 0.61667 to 0.65000, saving model to best_model_ANN.h5\n",
            "15/15 [==============================] - 0s 11ms/step - loss: 0.5145 - accuracy: 0.7197 - val_loss: 0.6043 - val_accuracy: 0.6500\n",
            "Epoch 7/50\n",
            " 7/15 [=============>................] - ETA: 0s - loss: 0.4943 - accuracy: 0.7768\n",
            "Epoch 00007: val_accuracy improved from 0.65000 to 0.66667, saving model to best_model_ANN.h5\n",
            "15/15 [==============================] - 0s 12ms/step - loss: 0.4957 - accuracy: 0.7573 - val_loss: 0.5902 - val_accuracy: 0.6667\n",
            "Epoch 8/50\n",
            "12/15 [=======================>......] - ETA: 0s - loss: 0.4665 - accuracy: 0.7917\n",
            "Epoch 00008: val_accuracy did not improve from 0.66667\n",
            "15/15 [==============================] - 0s 7ms/step - loss: 0.4782 - accuracy: 0.7824 - val_loss: 0.6014 - val_accuracy: 0.6667\n",
            "Epoch 9/50\n",
            "14/15 [===========================>..] - ETA: 0s - loss: 0.4332 - accuracy: 0.7991\n",
            "Epoch 00009: val_accuracy improved from 0.66667 to 0.71667, saving model to best_model_ANN.h5\n",
            "15/15 [==============================] - 0s 10ms/step - loss: 0.4331 - accuracy: 0.7950 - val_loss: 0.5734 - val_accuracy: 0.7167\n",
            "Epoch 10/50\n",
            "13/15 [=========================>....] - ETA: 0s - loss: 0.3987 - accuracy: 0.8317\n",
            "Epoch 00010: val_accuracy did not improve from 0.71667\n",
            "15/15 [==============================] - 0s 7ms/step - loss: 0.4182 - accuracy: 0.8075 - val_loss: 0.5812 - val_accuracy: 0.7167\n",
            "Epoch 11/50\n",
            "14/15 [===========================>..] - ETA: 0s - loss: 0.4086 - accuracy: 0.8393\n",
            "Epoch 00011: val_accuracy improved from 0.71667 to 0.73333, saving model to best_model_ANN.h5\n",
            "15/15 [==============================] - 0s 10ms/step - loss: 0.4095 - accuracy: 0.8326 - val_loss: 0.5423 - val_accuracy: 0.7333\n",
            "Epoch 12/50\n",
            "14/15 [===========================>..] - ETA: 0s - loss: 0.4059 - accuracy: 0.8036\n",
            "Epoch 00012: val_accuracy did not improve from 0.73333\n",
            "15/15 [==============================] - 0s 6ms/step - loss: 0.4161 - accuracy: 0.7950 - val_loss: 0.5633 - val_accuracy: 0.7333\n",
            "Epoch 13/50\n",
            "10/15 [===================>..........] - ETA: 0s - loss: 0.4455 - accuracy: 0.7688\n",
            "Epoch 00013: val_accuracy improved from 0.73333 to 0.75000, saving model to best_model_ANN.h5\n",
            "15/15 [==============================] - 0s 12ms/step - loss: 0.4181 - accuracy: 0.8117 - val_loss: 0.5529 - val_accuracy: 0.7500\n",
            "Epoch 14/50\n",
            "12/15 [=======================>......] - ETA: 0s - loss: 0.3784 - accuracy: 0.8281\n",
            "Epoch 00014: val_accuracy did not improve from 0.75000\n",
            "15/15 [==============================] - 0s 7ms/step - loss: 0.3803 - accuracy: 0.8117 - val_loss: 0.5429 - val_accuracy: 0.7500\n",
            "Epoch 15/50\n",
            "14/15 [===========================>..] - ETA: 0s - loss: 0.3957 - accuracy: 0.8348\n",
            "Epoch 00015: val_accuracy did not improve from 0.75000\n",
            "15/15 [==============================] - 0s 6ms/step - loss: 0.3894 - accuracy: 0.8368 - val_loss: 0.5908 - val_accuracy: 0.7500\n",
            "Epoch 16/50\n",
            "14/15 [===========================>..] - ETA: 0s - loss: 0.3797 - accuracy: 0.8348\n",
            "Epoch 00016: val_accuracy did not improve from 0.75000\n",
            "15/15 [==============================] - 0s 6ms/step - loss: 0.3774 - accuracy: 0.8368 - val_loss: 0.5701 - val_accuracy: 0.7500\n",
            "Epoch 17/50\n",
            "14/15 [===========================>..] - ETA: 0s - loss: 0.3466 - accuracy: 0.8438\n",
            "Epoch 00017: val_accuracy improved from 0.75000 to 0.76667, saving model to best_model_ANN.h5\n",
            "15/15 [==============================] - 0s 11ms/step - loss: 0.3682 - accuracy: 0.8285 - val_loss: 0.5422 - val_accuracy: 0.7667\n",
            "Epoch 18/50\n",
            "14/15 [===========================>..] - ETA: 0s - loss: 0.3579 - accuracy: 0.8527\n",
            "Epoch 00018: val_accuracy did not improve from 0.76667\n",
            "15/15 [==============================] - 0s 6ms/step - loss: 0.3778 - accuracy: 0.8452 - val_loss: 0.5861 - val_accuracy: 0.7500\n",
            "Epoch 19/50\n",
            "14/15 [===========================>..] - ETA: 0s - loss: 0.3492 - accuracy: 0.8482\n",
            "Epoch 00019: val_accuracy did not improve from 0.76667\n",
            "15/15 [==============================] - 0s 6ms/step - loss: 0.3473 - accuracy: 0.8494 - val_loss: 0.5914 - val_accuracy: 0.7500\n",
            "Epoch 20/50\n",
            "14/15 [===========================>..] - ETA: 0s - loss: 0.3468 - accuracy: 0.8571\n",
            "Epoch 00020: val_accuracy did not improve from 0.76667\n",
            "15/15 [==============================] - 0s 6ms/step - loss: 0.3475 - accuracy: 0.8577 - val_loss: 0.5550 - val_accuracy: 0.7333\n",
            "Epoch 21/50\n",
            "13/15 [=========================>....] - ETA: 0s - loss: 0.3368 - accuracy: 0.8558\n",
            "Epoch 00021: val_accuracy did not improve from 0.76667\n",
            "15/15 [==============================] - 0s 8ms/step - loss: 0.3539 - accuracy: 0.8410 - val_loss: 0.5832 - val_accuracy: 0.7500\n",
            "Epoch 22/50\n",
            "14/15 [===========================>..] - ETA: 0s - loss: 0.3607 - accuracy: 0.8259\n",
            "Epoch 00022: val_accuracy did not improve from 0.76667\n",
            "15/15 [==============================] - 0s 6ms/step - loss: 0.3436 - accuracy: 0.8368 - val_loss: 0.5802 - val_accuracy: 0.7500\n",
            "Epoch 23/50\n",
            "10/15 [===================>..........] - ETA: 0s - loss: 0.3750 - accuracy: 0.8313\n",
            "Epoch 00023: val_accuracy did not improve from 0.76667\n",
            "15/15 [==============================] - 0s 7ms/step - loss: 0.3659 - accuracy: 0.8494 - val_loss: 0.5369 - val_accuracy: 0.7333\n",
            "Epoch 24/50\n",
            "14/15 [===========================>..] - ETA: 0s - loss: 0.3490 - accuracy: 0.8438\n",
            "Epoch 00024: val_accuracy did not improve from 0.76667\n",
            "15/15 [==============================] - 0s 6ms/step - loss: 0.3555 - accuracy: 0.8368 - val_loss: 0.5853 - val_accuracy: 0.7500\n",
            "Epoch 25/50\n",
            "14/15 [===========================>..] - ETA: 0s - loss: 0.3644 - accuracy: 0.8438\n",
            "Epoch 00025: val_accuracy did not improve from 0.76667\n",
            "15/15 [==============================] - 0s 6ms/step - loss: 0.3646 - accuracy: 0.8410 - val_loss: 0.5762 - val_accuracy: 0.7500\n",
            "Epoch 26/50\n",
            "14/15 [===========================>..] - ETA: 0s - loss: 0.3703 - accuracy: 0.8527\n",
            "Epoch 00026: val_accuracy did not improve from 0.76667\n",
            "15/15 [==============================] - 0s 7ms/step - loss: 0.3735 - accuracy: 0.8410 - val_loss: 0.5622 - val_accuracy: 0.7500\n",
            "Epoch 27/50\n",
            "14/15 [===========================>..] - ETA: 0s - loss: 0.3211 - accuracy: 0.8304\n",
            "Epoch 00027: val_accuracy did not improve from 0.76667\n",
            "15/15 [==============================] - 0s 6ms/step - loss: 0.3284 - accuracy: 0.8243 - val_loss: 0.5739 - val_accuracy: 0.7500\n",
            "Epoch 28/50\n",
            "12/15 [=======================>......] - ETA: 0s - loss: 0.3777 - accuracy: 0.8333\n",
            "Epoch 00028: val_accuracy did not improve from 0.76667\n",
            "15/15 [==============================] - 0s 8ms/step - loss: 0.3511 - accuracy: 0.8494 - val_loss: 0.5761 - val_accuracy: 0.7500\n",
            "Epoch 29/50\n",
            "13/15 [=========================>....] - ETA: 0s - loss: 0.3199 - accuracy: 0.8462\n",
            "Epoch 00029: val_accuracy did not improve from 0.76667\n",
            "15/15 [==============================] - 0s 7ms/step - loss: 0.3459 - accuracy: 0.8285 - val_loss: 0.5863 - val_accuracy: 0.7500\n",
            "Epoch 30/50\n",
            "13/15 [=========================>....] - ETA: 0s - loss: 0.3376 - accuracy: 0.8510\n",
            "Epoch 00030: val_accuracy did not improve from 0.76667\n",
            "15/15 [==============================] - 0s 7ms/step - loss: 0.3535 - accuracy: 0.8536 - val_loss: 0.5669 - val_accuracy: 0.7500\n",
            "Epoch 31/50\n",
            "13/15 [=========================>....] - ETA: 0s - loss: 0.2978 - accuracy: 0.8846\n",
            "Epoch 00031: val_accuracy did not improve from 0.76667\n",
            "15/15 [==============================] - 0s 8ms/step - loss: 0.3097 - accuracy: 0.8787 - val_loss: 0.5629 - val_accuracy: 0.7500\n",
            "Epoch 32/50\n",
            "14/15 [===========================>..] - ETA: 0s - loss: 0.3357 - accuracy: 0.8616\n",
            "Epoch 00032: val_accuracy did not improve from 0.76667\n",
            "15/15 [==============================] - 0s 8ms/step - loss: 0.3380 - accuracy: 0.8536 - val_loss: 0.5704 - val_accuracy: 0.7667\n",
            "Epoch 33/50\n",
            "14/15 [===========================>..] - ETA: 0s - loss: 0.3366 - accuracy: 0.8661\n",
            "Epoch 00033: val_accuracy did not improve from 0.76667\n",
            "15/15 [==============================] - 0s 8ms/step - loss: 0.3310 - accuracy: 0.8703 - val_loss: 0.5600 - val_accuracy: 0.7500\n",
            "Epoch 34/50\n",
            "14/15 [===========================>..] - ETA: 0s - loss: 0.3379 - accuracy: 0.8438\n",
            "Epoch 00034: val_accuracy did not improve from 0.76667\n",
            "15/15 [==============================] - 0s 7ms/step - loss: 0.3471 - accuracy: 0.8410 - val_loss: 0.5926 - val_accuracy: 0.7500\n",
            "Epoch 35/50\n",
            "14/15 [===========================>..] - ETA: 0s - loss: 0.3194 - accuracy: 0.8661\n",
            "Epoch 00035: val_accuracy did not improve from 0.76667\n",
            "15/15 [==============================] - 0s 7ms/step - loss: 0.3224 - accuracy: 0.8577 - val_loss: 0.5645 - val_accuracy: 0.7500\n",
            "Epoch 36/50\n",
            "12/15 [=======================>......] - ETA: 0s - loss: 0.3230 - accuracy: 0.8646\n",
            "Epoch 00036: val_accuracy did not improve from 0.76667\n",
            "15/15 [==============================] - 0s 8ms/step - loss: 0.3399 - accuracy: 0.8577 - val_loss: 0.5773 - val_accuracy: 0.7500\n",
            "Epoch 37/50\n",
            "13/15 [=========================>....] - ETA: 0s - loss: 0.3535 - accuracy: 0.8365\n",
            "Epoch 00037: val_accuracy did not improve from 0.76667\n",
            "15/15 [==============================] - 0s 8ms/step - loss: 0.3319 - accuracy: 0.8494 - val_loss: 0.5597 - val_accuracy: 0.7500\n",
            "Epoch 38/50\n",
            "13/15 [=========================>....] - ETA: 0s - loss: 0.3285 - accuracy: 0.8606\n",
            "Epoch 00038: val_accuracy did not improve from 0.76667\n",
            "15/15 [==============================] - 0s 7ms/step - loss: 0.3286 - accuracy: 0.8619 - val_loss: 0.5716 - val_accuracy: 0.7667\n",
            "Epoch 39/50\n",
            "13/15 [=========================>....] - ETA: 0s - loss: 0.3171 - accuracy: 0.8510\n",
            "Epoch 00039: val_accuracy did not improve from 0.76667\n",
            "15/15 [==============================] - 0s 7ms/step - loss: 0.3260 - accuracy: 0.8452 - val_loss: 0.5831 - val_accuracy: 0.7667\n",
            "Epoch 40/50\n",
            "14/15 [===========================>..] - ETA: 0s - loss: 0.3117 - accuracy: 0.8661\n",
            "Epoch 00040: val_accuracy did not improve from 0.76667\n",
            "15/15 [==============================] - 0s 6ms/step - loss: 0.3097 - accuracy: 0.8661 - val_loss: 0.5675 - val_accuracy: 0.7667\n",
            "Epoch 41/50\n",
            "14/15 [===========================>..] - ETA: 0s - loss: 0.3229 - accuracy: 0.8616\n",
            "Epoch 00041: val_accuracy did not improve from 0.76667\n",
            "15/15 [==============================] - 0s 7ms/step - loss: 0.3214 - accuracy: 0.8577 - val_loss: 0.5917 - val_accuracy: 0.7333\n",
            "Epoch 42/50\n",
            "13/15 [=========================>....] - ETA: 0s - loss: 0.3125 - accuracy: 0.8654\n",
            "Epoch 00042: val_accuracy did not improve from 0.76667\n",
            "15/15 [==============================] - 0s 7ms/step - loss: 0.3031 - accuracy: 0.8703 - val_loss: 0.5541 - val_accuracy: 0.7667\n",
            "Epoch 43/50\n",
            "11/15 [=====================>........] - ETA: 0s - loss: 0.3047 - accuracy: 0.8750\n",
            "Epoch 00043: val_accuracy did not improve from 0.76667\n",
            "15/15 [==============================] - 0s 8ms/step - loss: 0.2947 - accuracy: 0.8787 - val_loss: 0.5858 - val_accuracy: 0.7333\n",
            "Epoch 44/50\n",
            "14/15 [===========================>..] - ETA: 0s - loss: 0.2750 - accuracy: 0.8929\n",
            "Epoch 00044: val_accuracy did not improve from 0.76667\n",
            "15/15 [==============================] - 0s 7ms/step - loss: 0.3003 - accuracy: 0.8787 - val_loss: 0.5806 - val_accuracy: 0.7500\n",
            "Epoch 45/50\n",
            "13/15 [=========================>....] - ETA: 0s - loss: 0.3312 - accuracy: 0.8462\n",
            "Epoch 00045: val_accuracy did not improve from 0.76667\n",
            "15/15 [==============================] - 0s 7ms/step - loss: 0.3222 - accuracy: 0.8619 - val_loss: 0.5693 - val_accuracy: 0.7500\n",
            "Epoch 46/50\n",
            "14/15 [===========================>..] - ETA: 0s - loss: 0.3074 - accuracy: 0.8616\n",
            "Epoch 00046: val_accuracy did not improve from 0.76667\n",
            "15/15 [==============================] - 0s 7ms/step - loss: 0.3147 - accuracy: 0.8536 - val_loss: 0.6235 - val_accuracy: 0.7333\n",
            "Epoch 47/50\n",
            "14/15 [===========================>..] - ETA: 0s - loss: 0.3021 - accuracy: 0.8661\n",
            "Epoch 00047: val_accuracy did not improve from 0.76667\n",
            "15/15 [==============================] - 0s 7ms/step - loss: 0.2960 - accuracy: 0.8661 - val_loss: 0.5822 - val_accuracy: 0.7500\n",
            "Epoch 48/50\n",
            "13/15 [=========================>....] - ETA: 0s - loss: 0.3211 - accuracy: 0.8654\n",
            "Epoch 00048: val_accuracy did not improve from 0.76667\n",
            "15/15 [==============================] - 0s 8ms/step - loss: 0.3083 - accuracy: 0.8745 - val_loss: 0.6111 - val_accuracy: 0.7333\n",
            "Epoch 49/50\n",
            "14/15 [===========================>..] - ETA: 0s - loss: 0.3080 - accuracy: 0.8661\n",
            "Epoch 00049: val_accuracy improved from 0.76667 to 0.78333, saving model to best_model_ANN.h5\n",
            "15/15 [==============================] - 0s 11ms/step - loss: 0.3055 - accuracy: 0.8661 - val_loss: 0.5913 - val_accuracy: 0.7833\n",
            "Epoch 50/50\n",
            "13/15 [=========================>....] - ETA: 0s - loss: 0.2858 - accuracy: 0.8894\n",
            "Epoch 00050: val_accuracy did not improve from 0.78333\n",
            "15/15 [==============================] - 0s 7ms/step - loss: 0.3090 - accuracy: 0.8787 - val_loss: 0.5703 - val_accuracy: 0.7833\n"
          ]
        }
      ]
    },
    {
      "cell_type": "code",
      "source": [
        "!ls"
      ],
      "metadata": {
        "colab": {
          "base_uri": "https://localhost:8080/"
        },
        "id": "aAGdxKtqNsBW",
        "outputId": "aa1b5731-2cd8-4b9a-95e5-634bd5fc7b67"
      },
      "execution_count": 74,
      "outputs": [
        {
          "output_type": "stream",
          "name": "stdout",
          "text": [
            "1.How-to-connect-Google-Colab\n",
            "2.KNN_Classification_Structure_Data.KNN_Classification\n",
            "3.ANN_Structure_Data\n",
            "best_model_ANN.h5\n",
            "Dataset\n",
            "KNN_Classification_model.pkl\n"
          ]
        }
      ]
    },
    {
      "cell_type": "markdown",
      "source": [
        "### 4. Load best model"
      ],
      "metadata": {
        "id": "K136vQ3hSAb4"
      }
    },
    {
      "cell_type": "code",
      "source": [
        "from keras.models import load_model"
      ],
      "metadata": {
        "id": "wowm8Y4UOoIC"
      },
      "execution_count": 75,
      "outputs": []
    },
    {
      "cell_type": "code",
      "source": [
        "bestmodel = load_model(\"best_model_ANN.h5\")"
      ],
      "metadata": {
        "id": "lXlO8aoWO6nd"
      },
      "execution_count": 76,
      "outputs": []
    },
    {
      "cell_type": "markdown",
      "source": [
        "### 5. Verify model"
      ],
      "metadata": {
        "id": "IeSqieKXSPKP"
      }
    },
    {
      "cell_type": "code",
      "source": [
        "y_pred = bestmodel.predict(X_test)"
      ],
      "metadata": {
        "id": "sQPeVAiVQjhn"
      },
      "execution_count": 92,
      "outputs": []
    },
    {
      "cell_type": "code",
      "source": [
        "y_pred[:5]"
      ],
      "metadata": {
        "colab": {
          "base_uri": "https://localhost:8080/"
        },
        "id": "Lvqu18pqTP5q",
        "outputId": "f300e2c6-294b-47d7-9f46-89867de97a92"
      },
      "execution_count": 93,
      "outputs": [
        {
          "output_type": "execute_result",
          "data": {
            "text/plain": [
              "array([[0.05566699],\n",
              "       [0.00862839],\n",
              "       [0.07582673],\n",
              "       [0.9992611 ],\n",
              "       [0.07040973]], dtype=float32)"
            ]
          },
          "metadata": {},
          "execution_count": 93
        }
      ]
    },
    {
      "cell_type": "code",
      "source": [
        "y_pred = np.where(y_pred < 0.5, 0, 1)"
      ],
      "metadata": {
        "id": "p8DCGtX1TXyS"
      },
      "execution_count": 95,
      "outputs": []
    },
    {
      "cell_type": "code",
      "source": [
        "y_pred[:5]"
      ],
      "metadata": {
        "colab": {
          "base_uri": "https://localhost:8080/"
        },
        "id": "cfs2uEsYTTql",
        "outputId": "f1e690a2-d5ff-4334-b3a8-f5509b82ab59"
      },
      "execution_count": 96,
      "outputs": [
        {
          "output_type": "execute_result",
          "data": {
            "text/plain": [
              "array([[0],\n",
              "       [0],\n",
              "       [0],\n",
              "       [1],\n",
              "       [0]])"
            ]
          },
          "metadata": {},
          "execution_count": 96
        }
      ]
    },
    {
      "cell_type": "code",
      "source": [
        "from sklearn.metrics import confusion_matrix"
      ],
      "metadata": {
        "id": "VsoX8DzPSn-I"
      },
      "execution_count": 97,
      "outputs": []
    },
    {
      "cell_type": "code",
      "source": [
        "cm = confusion_matrix(y_test, y_pred.squeeze())\n",
        "cm"
      ],
      "metadata": {
        "colab": {
          "base_uri": "https://localhost:8080/"
        },
        "id": "3jV6ReEjTKZz",
        "outputId": "3691dccd-ff1d-4c74-f7d6-becca839ab03"
      },
      "execution_count": 98,
      "outputs": [
        {
          "output_type": "execute_result",
          "data": {
            "text/plain": [
              "array([[34,  1],\n",
              "       [12, 13]])"
            ]
          },
          "metadata": {},
          "execution_count": 98
        }
      ]
    },
    {
      "cell_type": "code",
      "source": [
        "acc = (cm[0][0] + cm[1][1])/ (cm[0][0] + cm[1][1] + cm[0][1] + cm[1][0])\n",
        "print(acc)"
      ],
      "metadata": {
        "colab": {
          "base_uri": "https://localhost:8080/"
        },
        "id": "mZb538gJUR7e",
        "outputId": "cbe1e459-bf93-4275-8261-52b044584486"
      },
      "execution_count": 99,
      "outputs": [
        {
          "output_type": "stream",
          "name": "stdout",
          "text": [
            "0.7833333333333333\n"
          ]
        }
      ]
    },
    {
      "cell_type": "markdown",
      "source": [
        "compute acc by evaluate() method"
      ],
      "metadata": {
        "id": "TdCXOxciUXLu"
      }
    },
    {
      "cell_type": "code",
      "source": [
        "acc = bestmodel.evaluate(X_test, y_test)[1]\n",
        "acc"
      ],
      "metadata": {
        "colab": {
          "base_uri": "https://localhost:8080/"
        },
        "id": "FjphuVVpSXHx",
        "outputId": "3e91d5fc-a851-46ca-9a13-f11a07132b2a"
      },
      "execution_count": 79,
      "outputs": [
        {
          "output_type": "stream",
          "name": "stdout",
          "text": [
            "2/2 [==============================] - 0s 9ms/step - loss: 0.5913 - accuracy: 0.7833\n"
          ]
        },
        {
          "output_type": "execute_result",
          "data": {
            "text/plain": [
              "0.7833333611488342"
            ]
          },
          "metadata": {},
          "execution_count": 79
        }
      ]
    },
    {
      "cell_type": "markdown",
      "source": [
        "### 6. Save model"
      ],
      "metadata": {
        "id": "dThdsvkLUiaZ"
      }
    },
    {
      "cell_type": "code",
      "source": [
        "bestmodel.save(\"bestmodel.h5\")"
      ],
      "metadata": {
        "id": "1wUhdNUaUhdp"
      },
      "execution_count": 100,
      "outputs": []
    },
    {
      "cell_type": "code",
      "source": [
        "!ls"
      ],
      "metadata": {
        "colab": {
          "base_uri": "https://localhost:8080/"
        },
        "id": "PgRGuM_HUu3C",
        "outputId": "7ce83c53-d88f-4847-ab43-4032a7e7be59"
      },
      "execution_count": 101,
      "outputs": [
        {
          "output_type": "stream",
          "name": "stdout",
          "text": [
            "1.How-to-connect-Google-Colab\n",
            "2.KNN_Classification_Structure_Data.KNN_Classification\n",
            "3.ANN_Structure_Data\n",
            "best_model_ANN.h5\n",
            "bestmodel.h5\n",
            "Dataset\n",
            "KNN_Classification_model.pkl\n"
          ]
        }
      ]
    },
    {
      "cell_type": "code",
      "source": [
        ""
      ],
      "metadata": {
        "id": "-UamhYUpUvSr"
      },
      "execution_count": null,
      "outputs": []
    }
  ]
}